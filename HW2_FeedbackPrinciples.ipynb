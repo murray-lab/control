{
 "cells": [
  {
   "cell_type": "markdown",
   "id": "24905ead",
   "metadata": {},
   "source": [
    "Solutions to the following exercises may be either typed into the submitted Jupyter notebook, or handwritten solutions may be scanned and submitted as a separate PDF file.\n",
    "\n",
    "1. (10 points) Exercise 2.1 from the Astrom and Murray textbook.\n",
    "2. (10 points) Exercise 2.3 from the Astrom and Murray textbook.\n",
    "3. (5 points) Exercise 2.4 from the Astrom and Murray textbook.\n",
    "4. (10 points) Exercise 2.8 from the Astrom and Murray textbook. Make the plots in Python using Matplotlib and submit them as a Python notebook.\n"
   ]
  },
  {
   "cell_type": "code",
   "execution_count": null,
   "id": "43cb228e",
   "metadata": {},
   "outputs": [],
   "source": []
  }
 ],
 "metadata": {
  "kernelspec": {
   "display_name": "Python 3",
   "language": "python",
   "name": "python3"
  },
  "language_info": {
   "codemirror_mode": {
    "name": "ipython",
    "version": 3
   },
   "file_extension": ".py",
   "mimetype": "text/x-python",
   "name": "python",
   "nbconvert_exporter": "python",
   "pygments_lexer": "ipython3",
   "version": "3.7.10"
  }
 },
 "nbformat": 4,
 "nbformat_minor": 5
}

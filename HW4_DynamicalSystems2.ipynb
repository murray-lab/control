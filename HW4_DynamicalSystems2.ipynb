{
 "cells": [
  {
   "cell_type": "markdown",
   "id": "43fe1434",
   "metadata": {},
   "source": [
    "Solutions to the following exercises may be either typed into the submitted Jupyter notebook, or handwritten solutions may be scanned and submitted as a separate PDF file.\n",
    "\n",
    "1. (10 points) Exercise 5.7 from the Astrom and Murray textbook.\n",
    "2. (10 points) Exercise 5.9 from the Astrom and Murray textbook. \n",
    "3. (10 points) Complete the coding exercise below."
   ]
  },
  {
   "cell_type": "markdown",
   "id": "9dc44f29",
   "metadata": {},
   "source": [
    "# Flow fields and trajectories for the damped oscillator\n",
    "\n",
    "A damped pendulum is described by the equation\n",
    "$$\n",
    "\\frac{d^2\\theta}{dt^2} + \\gamma \\frac{d\\theta}{dt} = -\\sin \\theta,\n",
    "$$\n",
    "where $\\gamma$ describes a viscous drag. If we assume $\\theta \\ll 1$, we can approximate this with the linearized equation\n",
    "$$\n",
    "\\frac{d^2\\theta}{dt^2} + \\gamma \\frac{d\\theta}{dt} = -\\theta.\n",
    "$$\n",
    "\n",
    "(a) (2 points) Letting $x_1 = \\theta$ and $x_2 = \\frac{d\\theta}{dt}$, write the each of the above equations as coupled systems of first-order differential equations.\n",
    "\n",
    "(b) (3 points) In two separate panels, plot the flow fields of the equations derived in (a), using the Matplotlib function `quiver`. Also plot the locations of any fixed points. Assume the drag coefficient is $\\gamma = 0.1$.\n",
    "\n",
    "(c) (3 points) Obtain trajectories $\\vec{x}(t)$ starting from the initial condition $\\vec{x}(0) = (\\pi / 4, 0)$ using Euler integration, and plot these trajectories overlaid on the flow fields from (b).\n",
    "\n",
    "(d) (2 points) Plot the angle $x_1(t)$ for each of the above solutions as a function of time. Try making $x_1(0)$ larger or smaller and explain what you observe."
   ]
  },
  {
   "cell_type": "code",
   "execution_count": null,
   "id": "dfb6bbe4",
   "metadata": {},
   "outputs": [],
   "source": []
  }
 ],
 "metadata": {
  "kernelspec": {
   "display_name": "Python 3 (ipykernel)",
   "language": "python",
   "name": "python3"
  },
  "language_info": {
   "codemirror_mode": {
    "name": "ipython",
    "version": 3
   },
   "file_extension": ".py",
   "mimetype": "text/x-python",
   "name": "python",
   "nbconvert_exporter": "python",
   "pygments_lexer": "ipython3",
   "version": "3.9.12"
  }
 },
 "nbformat": 4,
 "nbformat_minor": 5
}

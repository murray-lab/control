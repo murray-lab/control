{
 "cells": [
  {
   "cell_type": "markdown",
   "metadata": {},
   "source": [
    "This notebook contains a short introduction to Python, with an emphasis on Numpy for numerical computing and Matplotlib for making plots.\n",
    "\n",
    "-- JM Murray, https://murraylab.uoregon.edu\n",
    "\n",
    "\n",
    "# Topics\n",
    "\n",
    "- All variables are objects: int, float, str\n",
    "- Data Structures: lists\n",
    "- Indexing\n",
    "- For loops\n",
    "- Boolean variables and conditional statements\n",
    "- Functions\n",
    "- Numpy arrays\n",
    "    - Creating new arrays\n",
    "    - Indexing and slicing arrays\n",
    "    - Arithmetic with arrays\n",
    "    - Useful functions for arrays\n",
    "    - Getting help\n",
    "\n",
    "- Plotting with Matplotlib\n",
    "    - Plotting lines\n",
    "    - Scatter plots\n",
    "    - Histograms\n",
    "    - Visualizing matrices\n",
    "    - Subplots\n",
    "    - Error bars"
   ]
  },
  {
   "cell_type": "markdown",
   "metadata": {},
   "source": [
    "# 0. Jupyter notebooks"
   ]
  },
  {
   "cell_type": "markdown",
   "metadata": {},
   "source": [
    "What you are looking at is a Jupyter notebook, which is one way of writing and running Python code (the \"py\" in Jupyter is for Python). While there are different ways of writing and running Python code (e.g. saving the code in a .py file and running it from the command line terminal), notebooks such as this one are an easy way to get started and allow for a more interactive coding experience. "
   ]
  },
  {
   "cell_type": "markdown",
   "metadata": {},
   "source": [
    "A notebook consists of cells, where each cell contains either Python code (if \"Code\" is selected in the dropdown menu above) or text (if \"Markdown\" is selected). A new cell can be added using a button near the top of the screen. Here is a simple cell with some code in it:"
   ]
  },
  {
   "cell_type": "code",
   "execution_count": 171,
   "metadata": {},
   "outputs": [
    {
     "data": {
      "text/plain": [
       "4"
      ]
     },
     "execution_count": 171,
     "metadata": {},
     "output_type": "execute_result"
    }
   ],
   "source": [
    "2+2"
   ]
  },
  {
   "cell_type": "markdown",
   "metadata": {},
   "source": [
    "The above cell can be run by clicking on it and simultaneously pressing Shift+Enter. Try making a change in the cell above and running it to see whether the expected result appears."
   ]
  },
  {
   "cell_type": "markdown",
   "metadata": {},
   "source": [
    "# 1. All variables are objects\n",
    "\n",
    "There are many different types of objects in Python."
   ]
  },
  {
   "cell_type": "markdown",
   "metadata": {},
   "source": [
    "Python allows us to define variables and manipulate and combine them. A number can be an **integer** (i.e. a whole number such as 7) or a **float** (i.e. a number that is not necessarily a whole number, such as 7.1). **Strings** are sequences of characters inside single or double quotation marks. The `print` function allows us to display things."
   ]
  },
  {
   "cell_type": "code",
   "execution_count": null,
   "metadata": {},
   "outputs": [],
   "source": []
  },
  {
   "cell_type": "markdown",
   "metadata": {},
   "source": [
    "Note that variable names may combine letters and numbers (e.g. `x1` or `x_1`), but should not begin with a number or contain any special characters other than underscores (so don't use `1x` or `x%!` as a variable name).\n",
    "\n",
    "We can also convert from one type to another (when such conversion makes sense):"
   ]
  },
  {
   "cell_type": "code",
   "execution_count": null,
   "metadata": {},
   "outputs": [],
   "source": []
  },
  {
   "cell_type": "markdown",
   "metadata": {},
   "source": [
    "Basic arithmetic operations work as you would expect. By the way, we can also print multiple things in the same line by giving the `print` function multiple arguments separated by commas."
   ]
  },
  {
   "cell_type": "code",
   "execution_count": null,
   "metadata": {},
   "outputs": [],
   "source": []
  },
  {
   "cell_type": "markdown",
   "metadata": {},
   "source": [
    "Variables can be combined to create new variables."
   ]
  },
  {
   "cell_type": "code",
   "execution_count": null,
   "metadata": {},
   "outputs": [],
   "source": []
  },
  {
   "cell_type": "markdown",
   "metadata": {},
   "source": [
    "We can also reassign a variable."
   ]
  },
  {
   "cell_type": "code",
   "execution_count": null,
   "metadata": {},
   "outputs": [],
   "source": []
  },
  {
   "cell_type": "markdown",
   "metadata": {},
   "source": [
    "Remember that it's often useful to add comments such as the one above to your code using # so that you'll know what you were thinking when you go back to read it later!"
   ]
  },
  {
   "cell_type": "markdown",
   "metadata": {},
   "source": [
    "## Exercises"
   ]
  },
  {
   "cell_type": "markdown",
   "metadata": {},
   "source": [
    "1.1. In the box below, add a float number to an integer. What type is the resulting variable?"
   ]
  },
  {
   "cell_type": "code",
   "execution_count": null,
   "metadata": {},
   "outputs": [],
   "source": []
  },
  {
   "cell_type": "markdown",
   "metadata": {},
   "source": [
    "1.2. In the first box below, add two strings together and print the result. Also multiply a string by an integer and print the result. In the second box below, write a sentence or two (make sure to select \"Markdown\" from the drop-down menu!) about your inferred conclusions about how addition and multiplication work when applied to strings."
   ]
  },
  {
   "cell_type": "code",
   "execution_count": null,
   "metadata": {},
   "outputs": [],
   "source": []
  },
  {
   "cell_type": "code",
   "execution_count": null,
   "metadata": {},
   "outputs": [],
   "source": []
  },
  {
   "cell_type": "markdown",
   "metadata": {},
   "source": [
    "# Data structures\n",
    "\n",
    "Numbers and other objects can be grouped into different types of data structures. Some that we will use are lists (discussed here) and arrays (discussed later in this notebook)."
   ]
  },
  {
   "cell_type": "markdown",
   "metadata": {},
   "source": [
    "## Lists\n",
    "\n",
    "A **list** is just what it sounds like. Lists are enclosed by square brackets. It can be a list of numbers such as strings (which can be enclosed in either single or double quotes in Python), as well as things that aren't numbers, or even lists of lists."
   ]
  },
  {
   "cell_type": "code",
   "execution_count": null,
   "metadata": {},
   "outputs": [],
   "source": []
  },
  {
   "cell_type": "code",
   "execution_count": null,
   "metadata": {},
   "outputs": [],
   "source": []
  },
  {
   "cell_type": "markdown",
   "metadata": {},
   "source": [
    "A list might look like a mathematical vector, but it's not (we'll learn about arrays, which do function as vectors and matrices, later on). For instance, if we add two lists, we get a longer list rather than adding up the individual elements."
   ]
  },
  {
   "cell_type": "code",
   "execution_count": null,
   "metadata": {},
   "outputs": [],
   "source": []
  },
  {
   "cell_type": "markdown",
   "metadata": {},
   "source": [
    "We can access the `i`th element of a list using `my_list[i]`. We refer to `i` as an **index**, which refers to an element of `my_list`."
   ]
  },
  {
   "cell_type": "code",
   "execution_count": null,
   "metadata": {},
   "outputs": [],
   "source": []
  },
  {
   "cell_type": "markdown",
   "metadata": {},
   "source": [
    "Were you expecting this to return 1 since that's the first element of `list1`? Be careful, since indexing starts with 0 in Python (unlike Matlab, where it starts with 1). Here are all of the elements in the list:"
   ]
  },
  {
   "cell_type": "code",
   "execution_count": null,
   "metadata": {},
   "outputs": [],
   "source": []
  },
  {
   "cell_type": "markdown",
   "metadata": {},
   "source": [
    "A handy trick is to count backwards from the end of a list using negative numbers."
   ]
  },
  {
   "cell_type": "code",
   "execution_count": null,
   "metadata": {},
   "outputs": [],
   "source": []
  },
  {
   "cell_type": "markdown",
   "metadata": {},
   "source": [
    "We'll discuss more about indexing later on when we introduce arrays."
   ]
  },
  {
   "cell_type": "markdown",
   "metadata": {},
   "source": [
    "# 3. For loops"
   ]
  },
  {
   "cell_type": "markdown",
   "metadata": {},
   "source": [
    "One reason that computers are so useful is because they are great at doing similar things many times. The `for` loop is one of the basic structures that allows us to do this. Here is a very basic example:"
   ]
  },
  {
   "cell_type": "code",
   "execution_count": null,
   "metadata": {},
   "outputs": [],
   "source": []
  },
  {
   "cell_type": "markdown",
   "metadata": {},
   "source": [
    "The above example is called a *for loop* because the indented part is repeated several times (i.e. looped), with `n` taking one of the values in the list during each iteration.\n",
    "\n",
    "A very handy thing to use with for loops is `range()`, which essentially creates a sequence with a range of sequential values (starting with 0, not 1!):"
   ]
  },
  {
   "cell_type": "code",
   "execution_count": null,
   "metadata": {},
   "outputs": [],
   "source": []
  },
  {
   "cell_type": "markdown",
   "metadata": {},
   "source": [
    "As another example, let's make a counter that counts how many times we have iterated over the loop."
   ]
  },
  {
   "cell_type": "code",
   "execution_count": null,
   "metadata": {},
   "outputs": [],
   "source": []
  },
  {
   "cell_type": "markdown",
   "metadata": {},
   "source": [
    "We can include more than one operation inside of the for loop, remembering to indent everything that we want to be looped over. "
   ]
  },
  {
   "cell_type": "code",
   "execution_count": null,
   "metadata": {},
   "outputs": [],
   "source": []
  },
  {
   "cell_type": "markdown",
   "metadata": {},
   "source": [
    "Rather than printing each iteration, let's replace each element in a list with its square and then print it at the end. Note that, if a command appears with no indent, that signals that the loop has ended."
   ]
  },
  {
   "cell_type": "code",
   "execution_count": null,
   "metadata": {},
   "outputs": [],
   "source": []
  },
  {
   "cell_type": "markdown",
   "metadata": {},
   "source": [
    "Note that in the above example we had to use `i` to keep track of the index and `n` to keep track of the corresponding value in the array. A handy way to shorten things is to use `enumerate`."
   ]
  },
  {
   "cell_type": "code",
   "execution_count": null,
   "metadata": {},
   "outputs": [],
   "source": []
  },
  {
   "cell_type": "markdown",
   "metadata": {},
   "source": [
    "## Exercises"
   ]
  },
  {
   "cell_type": "markdown",
   "metadata": {},
   "source": [
    "3.1. In the cell below, two lists have been created. Create a new list, `list_c` (you might just want to set all of its elements to zero initially, then replace them later), and use a for loop to set each element in the new list equal to the sum of the corresponding elements from the first two lists. Print the result and show that `list_c` is `[3,7,11,15]`."
   ]
  },
  {
   "cell_type": "code",
   "execution_count": null,
   "metadata": {},
   "outputs": [],
   "source": [
    "list_a = [1,3,5,7]\n",
    "list_b = [2,4,6,8]\n",
    "\n",
    "### Your code here ###"
   ]
  },
  {
   "cell_type": "markdown",
   "metadata": {},
   "source": [
    "3.2. In the cell below, an array of temperatures in degrees Celsius has been created. Use a for loop and the conversion formula `f = 9/5*c + 32` to print each temperature in both Celsius and Fahrenheit."
   ]
  },
  {
   "cell_type": "code",
   "execution_count": null,
   "metadata": {},
   "outputs": [],
   "source": [
    "celsius = [0, 10, 20, 30]\n",
    "\n",
    "### Your code here ###"
   ]
  },
  {
   "cell_type": "markdown",
   "metadata": {},
   "source": [
    "3.3. In the cell below, use a for loop to add up all of the numbers from 1 to 100. Print the result."
   ]
  },
  {
   "cell_type": "code",
   "execution_count": null,
   "metadata": {},
   "outputs": [],
   "source": []
  },
  {
   "cell_type": "markdown",
   "metadata": {},
   "source": [
    "For personal enrichment, take a look at this inspiring story related to the last exercise: https://nrich.maths.org/2478"
   ]
  },
  {
   "cell_type": "markdown",
   "metadata": {},
   "source": [
    "# 4. Boolean operations and conditional statements"
   ]
  },
  {
   "cell_type": "markdown",
   "metadata": {},
   "source": [
    "Boolean operations return values that are either true or false. Some examples are \"greater than\", \"less than\" and \"equal to\", as shown in the following examples."
   ]
  },
  {
   "cell_type": "code",
   "execution_count": null,
   "metadata": {},
   "outputs": [],
   "source": []
  },
  {
   "cell_type": "code",
   "execution_count": null,
   "metadata": {},
   "outputs": [],
   "source": []
  },
  {
   "cell_type": "markdown",
   "metadata": {},
   "source": [
    "The above examples computed Boolean values by comparing numerical values. There are also operations that allow us to manipulate Boolean values using logical rules."
   ]
  },
  {
   "cell_type": "code",
   "execution_count": null,
   "metadata": {},
   "outputs": [],
   "source": []
  },
  {
   "cell_type": "code",
   "execution_count": null,
   "metadata": {},
   "outputs": [],
   "source": []
  },
  {
   "cell_type": "markdown",
   "metadata": {},
   "source": [
    "The control statements `if`, `elif`, and `else` enable us to choose what to do depending on Boolean values. As with for loops, all of the commands that are subject to the control statements must be indented. Below are a few examples."
   ]
  },
  {
   "cell_type": "code",
   "execution_count": null,
   "metadata": {},
   "outputs": [],
   "source": []
  },
  {
   "cell_type": "code",
   "execution_count": null,
   "metadata": {},
   "outputs": [],
   "source": []
  },
  {
   "cell_type": "code",
   "execution_count": null,
   "metadata": {},
   "outputs": [],
   "source": []
  },
  {
   "cell_type": "code",
   "execution_count": null,
   "metadata": {},
   "outputs": [],
   "source": []
  },
  {
   "cell_type": "markdown",
   "metadata": {},
   "source": [
    "## Exercises\n",
    "\n",
    "4.1. The operation `x%y` gives the remainder after dividing `x` by `y`. Use this operator and conditional statements to print \"x is even\" or \"x is odd\" depending on whether `x` is even or odd."
   ]
  },
  {
   "cell_type": "code",
   "execution_count": null,
   "metadata": {},
   "outputs": [],
   "source": []
  },
  {
   "cell_type": "markdown",
   "metadata": {},
   "source": [
    "4.2. In the cell below, two lists have been created. Create a new list, `list_c`, and use a for loop to set each entry of the new list to `1` if the corresponding entries of the first two lists are the same, or `0` if they are different. Print the new list, which should be equal to `[0,1,0,0]`."
   ]
  },
  {
   "cell_type": "code",
   "execution_count": null,
   "metadata": {},
   "outputs": [],
   "source": [
    "list_a = [1,3,5,7]\n",
    "list_b = [2,3,4,5]\n",
    "\n",
    "### Your code here ###"
   ]
  },
  {
   "cell_type": "markdown",
   "metadata": {},
   "source": [
    "# 5. Functions"
   ]
  },
  {
   "cell_type": "markdown",
   "metadata": {},
   "source": [
    "Just like in mathematics, a function allows us to do an operation on some input. Functions are very handy because they allow us to perform the same operation on different inputs without having to copy and paste code each time we want to apply the operation to a new input. Here is a simple example:"
   ]
  },
  {
   "cell_type": "code",
   "execution_count": null,
   "metadata": {},
   "outputs": [],
   "source": []
  },
  {
   "cell_type": "markdown",
   "metadata": {},
   "source": [
    "The syntax for defining a function is always the same. `def` tells us that we are defining a function. Next comes the name that we want to give the function, followed by its input (or inputs) and a colon. The rest of the function must be indented. In the case where a function is supposed to give us something back, it ends with `return`, followed by the thing that it gives us back. We can apply the function to a few different inputs as follows:"
   ]
  },
  {
   "cell_type": "code",
   "execution_count": null,
   "metadata": {},
   "outputs": [],
   "source": []
  },
  {
   "cell_type": "markdown",
   "metadata": {},
   "source": [
    "An important point about functions concerns **namespaces**. Any variables that are defined inside of the function exist only inside of the function and cease to exist after the function is run. In this above example, this means that we will get an error if we try to print the variable `z_squared`."
   ]
  },
  {
   "cell_type": "code",
   "execution_count": null,
   "metadata": {},
   "outputs": [],
   "source": []
  },
  {
   "cell_type": "markdown",
   "metadata": {},
   "source": [
    "Further, if we define variables with the same name both inside and outside of a function. When the function is being run, the variable takes the value that it's assigned inside of the function. When the function isn't being run, though, the variable takes the value that it was assigned outside of the function."
   ]
  },
  {
   "cell_type": "code",
   "execution_count": null,
   "metadata": {},
   "outputs": [],
   "source": []
  },
  {
   "cell_type": "markdown",
   "metadata": {},
   "source": [
    "## Exercises\n",
    "\n",
    "5.1. Write a function that converts Celsius temperatures to Fahrenheit (f = 9/5 * c + 32). Use a for loop together with this function to print the Fahrenheit values corresponding to the Celsius values `[0,10,20,30]`."
   ]
  },
  {
   "cell_type": "code",
   "execution_count": null,
   "metadata": {},
   "outputs": [],
   "source": []
  },
  {
   "cell_type": "markdown",
   "metadata": {},
   "source": [
    "5.2. Write a function `f(n)` that adds up all of the numbers from 1 to `n` and returns the total."
   ]
  },
  {
   "cell_type": "code",
   "execution_count": null,
   "metadata": {},
   "outputs": [],
   "source": []
  },
  {
   "cell_type": "markdown",
   "metadata": {},
   "source": [
    "5.3. Write a function `greater_than_10(x)` that prints the statement \"input is greater than 10\" or \"input is less than 10\" depending on whether the input is greater than or less than 10."
   ]
  },
  {
   "cell_type": "code",
   "execution_count": null,
   "metadata": {},
   "outputs": [],
   "source": []
  },
  {
   "cell_type": "markdown",
   "metadata": {},
   "source": [
    "5.4. A function can take multiple arguments separated by a comma. Write a function `add_together(x,y)` that adds together its two arguments and returns the sum."
   ]
  },
  {
   "cell_type": "code",
   "execution_count": null,
   "metadata": {},
   "outputs": [],
   "source": []
  },
  {
   "cell_type": "markdown",
   "metadata": {},
   "source": [
    "# 6. Numpy arrays\n",
    "\n",
    "Remember that Python is a general-purpose programming language. Numerical and scientific computing is just one of the many things that it can do. The part of Python that is specialized for numerical computation is called Numpy, and it is a collection (or \"library\") of functions and objects that allow us to do things like generate random numbers, take averages, and lots of other useful things.\n",
    "\n",
    "Two things are especially important when using Numpy. First, if we want to use functions or objects from numpy, we need to *import* Numpy. This is usually done at the top of a notebook or script, but can be done anywhere.\n"
   ]
  },
  {
   "cell_type": "code",
   "execution_count": null,
   "metadata": {},
   "outputs": [],
   "source": []
  },
  {
   "cell_type": "markdown",
   "metadata": {},
   "source": [
    "The second important thing is that, in order to use a function or object from Numpy, we need to precede it with `np.`, which tells Python that we are asking for something that is part of Numpy. So, for example, the circumference of the unit circle is given by the following, where we make use of the special variable `pi` that is part of Numpy:"
   ]
  },
  {
   "cell_type": "code",
   "execution_count": null,
   "metadata": {},
   "outputs": [],
   "source": []
  },
  {
   "cell_type": "markdown",
   "metadata": {},
   "source": [
    "Note that the last part of our import statement above, `as np` just introduces a shorthand for Numpy, allowing us to write, for example, `np.pi` rather than `numpy.pi`."
   ]
  },
  {
   "cell_type": "markdown",
   "metadata": {},
   "source": [
    "Numpy **arrays** can be thought of as vectors or matrices (or their higher-dimensional generalizations). The data that we analyze throughout this course will generally be stored as arrays, so learning how to understand and manipulate them is very important."
   ]
  },
  {
   "cell_type": "markdown",
   "metadata": {},
   "source": [
    "## Creating new arrays and indexing"
   ]
  },
  {
   "cell_type": "markdown",
   "metadata": {},
   "source": [
    "Arrays can be created by hand as follows:"
   ]
  },
  {
   "cell_type": "code",
   "execution_count": null,
   "metadata": {},
   "outputs": [],
   "source": []
  },
  {
   "cell_type": "markdown",
   "metadata": {},
   "source": [
    "As we did with lists above, we can use square brackets to obtain just part of an array. First, let's use indices to get individual elements of an array."
   ]
  },
  {
   "cell_type": "code",
   "execution_count": null,
   "metadata": {},
   "outputs": [],
   "source": []
  },
  {
   "cell_type": "markdown",
   "metadata": {},
   "source": [
    "As with lists, we can also count backwards from the end with negative indices."
   ]
  },
  {
   "cell_type": "code",
   "execution_count": null,
   "metadata": {},
   "outputs": [],
   "source": []
  },
  {
   "cell_type": "markdown",
   "metadata": {},
   "source": [
    "We can use this type of indexing to reassign elements in an array, as in the following examples."
   ]
  },
  {
   "cell_type": "code",
   "execution_count": null,
   "metadata": {},
   "outputs": [],
   "source": []
  },
  {
   "cell_type": "markdown",
   "metadata": {},
   "source": [
    "We can also \"slice\" an array, where a **slice** refers to a range of incides. The slice `[i:j]` returns a smaller array that starts with the `i`th entry (including this entry) and continues to the `j`th entry (not including this entry). (Remember that indexes start from 0, not 1!)"
   ]
  },
  {
   "cell_type": "code",
   "execution_count": null,
   "metadata": {},
   "outputs": [],
   "source": []
  },
  {
   "cell_type": "markdown",
   "metadata": {},
   "source": [
    "Similarly, we can use `[:i]` to return all of the elements up to (but not including) index `i`, or `[i:]` to return all of the elements starting from (and including) index `i`, as in the following examples."
   ]
  },
  {
   "cell_type": "code",
   "execution_count": null,
   "metadata": {},
   "outputs": [],
   "source": []
  },
  {
   "cell_type": "markdown",
   "metadata": {},
   "source": [
    "Just as we were able to reassign individual elements in an array above, we can reassign slices in the same way."
   ]
  },
  {
   "cell_type": "code",
   "execution_count": null,
   "metadata": {},
   "outputs": [],
   "source": []
  },
  {
   "cell_type": "markdown",
   "metadata": {},
   "source": [
    "For a multidimensional array, indices along each dimension should be separated by a comma. For a two-dimensional array, the first index refers to the row, and the second to the column."
   ]
  },
  {
   "cell_type": "code",
   "execution_count": null,
   "metadata": {},
   "outputs": [],
   "source": []
  },
  {
   "cell_type": "markdown",
   "metadata": {},
   "source": [
    "We can also get an entire row or an entire column of a two-dimensional array as in the following example. Here, we can think of `:` as a slice that includes all elements."
   ]
  },
  {
   "cell_type": "code",
   "execution_count": null,
   "metadata": {},
   "outputs": [],
   "source": []
  },
  {
   "cell_type": "markdown",
   "metadata": {},
   "source": [
    "It is often useful to ask how long an array is along each dimension."
   ]
  },
  {
   "cell_type": "code",
   "execution_count": null,
   "metadata": {},
   "outputs": [],
   "source": []
  },
  {
   "cell_type": "markdown",
   "metadata": {},
   "source": [
    "One common way to quickly create a new array is to fill it with zeros, as follows, where the argument gives the length of the array:"
   ]
  },
  {
   "cell_type": "code",
   "execution_count": null,
   "metadata": {},
   "outputs": [],
   "source": []
  },
  {
   "cell_type": "markdown",
   "metadata": {},
   "source": [
    "If we want to create a two-dimensional array (i.e. a matrix) filled with zeros, the argument should give the dimensions as `(dim1, dim2)`."
   ]
  },
  {
   "cell_type": "code",
   "execution_count": null,
   "metadata": {},
   "outputs": [],
   "source": []
  },
  {
   "cell_type": "markdown",
   "metadata": {},
   "source": [
    "If we want the array to have uniform nonzero values, we can similarly use `np.ones`."
   ]
  },
  {
   "cell_type": "code",
   "execution_count": null,
   "metadata": {},
   "outputs": [],
   "source": []
  },
  {
   "cell_type": "markdown",
   "metadata": {},
   "source": [
    "Why would we want to have an array full of zeros or ones? A common thing to do is to initialize an array this way, then to change the elements one-by-one to the values that we want, according to some rule. This is often done with a for loop. In the following example, we'll make an array with the squares of all of the integers from 1 to 10."
   ]
  },
  {
   "cell_type": "code",
   "execution_count": null,
   "metadata": {},
   "outputs": [],
   "source": []
  },
  {
   "cell_type": "markdown",
   "metadata": {},
   "source": [
    "Or, in the next example, we can use nested for loops to generate a multiplication table."
   ]
  },
  {
   "cell_type": "code",
   "execution_count": null,
   "metadata": {},
   "outputs": [],
   "source": []
  },
  {
   "cell_type": "markdown",
   "metadata": {},
   "source": [
    "Although we have just considered one- and two-dimensional arrays so far, they can have arbitrary dimension (though they get harder to visualize as the dimension gets higher). Here we'll make a three-dimensional array of zeros and print its shape."
   ]
  },
  {
   "cell_type": "code",
   "execution_count": null,
   "metadata": {},
   "outputs": [],
   "source": []
  },
  {
   "cell_type": "markdown",
   "metadata": {},
   "source": [
    "Another very useful way to create an array is using `arange`, which creates a one-dimensional array of ordered elements (similar to `range`, which we encountered above).\n",
    "\n",
    "If there's one number as input, `arange` creates an array of integers up to (but not including) that number, starting from 0:"
   ]
  },
  {
   "cell_type": "code",
   "execution_count": null,
   "metadata": {},
   "outputs": [],
   "source": []
  },
  {
   "cell_type": "markdown",
   "metadata": {},
   "source": [
    "If there are two inputs, it creates an array of integers from the first to the second number:"
   ]
  },
  {
   "cell_type": "code",
   "execution_count": null,
   "metadata": {},
   "outputs": [],
   "source": []
  },
  {
   "cell_type": "markdown",
   "metadata": {},
   "source": [
    "Finally, if three numbers are given as input, the third input determines the spacing between successive numbers in the array:"
   ]
  },
  {
   "cell_type": "code",
   "execution_count": null,
   "metadata": {},
   "outputs": [],
   "source": []
  },
  {
   "cell_type": "markdown",
   "metadata": {},
   "source": [
    "Another often useful way to create an array is to fill it with random values. The most common ways to do this are to use `np.random.rand` to generate random values distributed uniformly over (0,1), or `np.random.randn` to generate random values from the standard normal distribution (i.e. a bell-shaped distribution centered at 0)."
   ]
  },
  {
   "cell_type": "code",
   "execution_count": null,
   "metadata": {},
   "outputs": [],
   "source": []
  },
  {
   "cell_type": "markdown",
   "metadata": {},
   "source": [
    "## Exercises\n",
    "\n",
    "6.1. Create a 5-by-5 array of zeros, then use a for loop to set all of the diagonal elements to 1."
   ]
  },
  {
   "cell_type": "code",
   "execution_count": null,
   "metadata": {},
   "outputs": [],
   "source": []
  },
  {
   "cell_type": "markdown",
   "metadata": {},
   "source": [
    "6.2. Create a 5-by-5 array of zeros, then use slicing and `np.ones` to set every element in the middle column to 1.\n"
   ]
  },
  {
   "cell_type": "code",
   "execution_count": null,
   "metadata": {},
   "outputs": [],
   "source": []
  },
  {
   "cell_type": "markdown",
   "metadata": {},
   "source": [
    "6.3. Create an array of zeros of length 10. Set the first element to zero and the second element to 1. Then use a for loop to set the remaining elements to the Fibonnaci sequence, in which each element is the sum of the two elements that came before it. Print the resulting array. Is the last element 34?"
   ]
  },
  {
   "cell_type": "code",
   "execution_count": null,
   "metadata": {},
   "outputs": [],
   "source": []
  },
  {
   "cell_type": "markdown",
   "metadata": {},
   "source": [
    "## Arithemetic with arrays"
   ]
  },
  {
   "cell_type": "markdown",
   "metadata": {},
   "source": [
    "As mentioned above, Numpy arrays can be thought of as vectors (and their higher-dimensional counterparts). \n",
    "\n",
    "The first important property of a vector is that we can add or subtract two vectors together and get another vector of the same shape. Vector addition just means that each component of the first vector is added to the corresponding component of the second vector, as in the following example."
   ]
  },
  {
   "cell_type": "code",
   "execution_count": null,
   "metadata": {},
   "outputs": [],
   "source": []
  },
  {
   "cell_type": "markdown",
   "metadata": {},
   "source": [
    "The second important property of a vector is that we can multiply a vector by a number and get back a vector of the same type. In this case, the number that multiplies the vector simply multiplies each individual element in the vector, as in the following example."
   ]
  },
  {
   "cell_type": "code",
   "execution_count": null,
   "metadata": {},
   "outputs": [],
   "source": []
  },
  {
   "cell_type": "markdown",
   "metadata": {},
   "source": [
    "Other basic arithemetic operations work in a similar way, element by element. One important thing to note is that the multiplication operator `*`, when applied to two vectors, refers to elementwise multiplication."
   ]
  },
  {
   "cell_type": "code",
   "execution_count": null,
   "metadata": {},
   "outputs": [],
   "source": []
  },
  {
   "cell_type": "markdown",
   "metadata": {},
   "source": [
    "This is a potential point of confusion for Matlab users, where applying the `*` operator to two vectors gives a dot product (i.e. elementwise multiplication followed by a sum over all elements) for vectors or a matrix product for products involving matrices. To take a dot product with Numpy, use either `np.dot` or `@`."
   ]
  },
  {
   "cell_type": "code",
   "execution_count": null,
   "metadata": {},
   "outputs": [],
   "source": []
  },
  {
   "cell_type": "markdown",
   "metadata": {},
   "source": [
    "The extension of the above ideas to multidimensional arrays is straightforward, as illustrated by the following examples."
   ]
  },
  {
   "cell_type": "code",
   "execution_count": null,
   "metadata": {},
   "outputs": [],
   "source": []
  },
  {
   "cell_type": "markdown",
   "metadata": {},
   "source": [
    "Be careful to note that, typically, only arrays of the same size can be combined. Trying to combine them will result in an error."
   ]
  },
  {
   "cell_type": "code",
   "execution_count": null,
   "metadata": {},
   "outputs": [],
   "source": []
  },
  {
   "cell_type": "markdown",
   "metadata": {},
   "source": [
    "An exception to this rule is **broadcasting**, as illustrated in the following examples."
   ]
  },
  {
   "cell_type": "code",
   "execution_count": null,
   "metadata": {},
   "outputs": [],
   "source": []
  },
  {
   "cell_type": "code",
   "execution_count": null,
   "metadata": {},
   "outputs": [],
   "source": []
  },
  {
   "cell_type": "markdown",
   "metadata": {},
   "source": [
    "If broadcasting seems a bit confusing, feel free not to use it in your own code. It can be a handy shortcut, but there are always other ways to combine arrays in which broadcasting isn't necessary."
   ]
  },
  {
   "cell_type": "markdown",
   "metadata": {},
   "source": [
    "## Exercises\n",
    "\n",
    "6.4. Use vector addition and scalar multiplication to convert the array of Celsius temperatures below to a new array of Fahrenheit temperatures and print the resulting array."
   ]
  },
  {
   "cell_type": "code",
   "execution_count": null,
   "metadata": {},
   "outputs": [],
   "source": [
    "celsius = np.array([0., 10., 20., 30.])\n",
    "\n",
    "### Your code here ###"
   ]
  },
  {
   "cell_type": "markdown",
   "metadata": {},
   "source": [
    "6.5. Using `b7 = np.array([1., 2., 3.])` and `b8 = np.array([4., 5., 6.])` as above, make guesses about what answers you expect the following to give:\n",
    "\n",
    "    - `b8 - b7` (subtraction)\n",
    "    - `b7 / b8` (division)\n",
    "    - `b7**2` (exponentiation)\n",
    "\n",
    "In each case, check whether your guesses were right."
   ]
  },
  {
   "cell_type": "code",
   "execution_count": null,
   "metadata": {},
   "outputs": [],
   "source": []
  },
  {
   "cell_type": "markdown",
   "metadata": {},
   "source": [
    "## Other operations on arrays"
   ]
  },
  {
   "cell_type": "markdown",
   "metadata": {},
   "source": [
    "Numpy has lots of built-in functions that are useful for using with arrays. Below are a few examples."
   ]
  },
  {
   "cell_type": "code",
   "execution_count": null,
   "metadata": {},
   "outputs": [],
   "source": []
  },
  {
   "cell_type": "markdown",
   "metadata": {},
   "source": [
    "When applying operations like these to a multidimensional array, we might want to apply them separately in each row or column (i.e. along each \"axis\"). All of the built-in functions above can take a second argument that specifies which axis to perform the operation along."
   ]
  },
  {
   "cell_type": "code",
   "execution_count": null,
   "metadata": {},
   "outputs": [],
   "source": []
  },
  {
   "cell_type": "markdown",
   "metadata": {},
   "source": [
    "If a function like `np.sin` or `np.cos` is applied to an array, it operates elementwise on each element. Let's illustrate this by taking a spin around the unit circle."
   ]
  },
  {
   "cell_type": "code",
   "execution_count": null,
   "metadata": {},
   "outputs": [],
   "source": []
  },
  {
   "cell_type": "markdown",
   "metadata": {},
   "source": [
    "## Exercises\n",
    "\n",
    "6.8. Use `np.arange` and `np.sum` to add up all of the numbers from 1 to 100. Check that you get the same answer this way that you got using the for loop above."
   ]
  },
  {
   "cell_type": "code",
   "execution_count": null,
   "metadata": {},
   "outputs": [],
   "source": []
  },
  {
   "cell_type": "markdown",
   "metadata": {},
   "source": [
    "6.9. Use `np.random.rand()` to create an array of 1000 random numbers uniformly distributed between 0 and 1. Compute the mean first using `np.mean()` and second by using `np.sum()` and dividing by the length of the array, showing that both give the same result. Is the resulting value close to the value that you would expect?"
   ]
  },
  {
   "cell_type": "code",
   "execution_count": null,
   "metadata": {},
   "outputs": [],
   "source": []
  },
  {
   "cell_type": "markdown",
   "metadata": {},
   "source": [
    "## Getting help"
   ]
  },
  {
   "cell_type": "markdown",
   "metadata": {},
   "source": [
    "If you would like to know more about a built-in Python function, just type its name followed by a question mark to view its documentation, which describes what the allowed inputs are, as well as what the function returns."
   ]
  },
  {
   "cell_type": "code",
   "execution_count": 113,
   "metadata": {},
   "outputs": [],
   "source": []
  },
  {
   "cell_type": "markdown",
   "metadata": {},
   "source": [
    "Try taking a look at the documentation of some other Numpy functions, such as `np.max`, `np.argmax`, or `np.sin`."
   ]
  },
  {
   "cell_type": "code",
   "execution_count": null,
   "metadata": {},
   "outputs": [],
   "source": []
  },
  {
   "cell_type": "markdown",
   "metadata": {},
   "source": [
    "# 7. Plotting with Matplotlib"
   ]
  },
  {
   "cell_type": "markdown",
   "metadata": {},
   "source": [
    "Just as Python contains the library Numpy for numerical computation, it also contains a library called Matplotlib and a sublibrary called Pyplot for making plots to visualize data. We can import it as follows:"
   ]
  },
  {
   "cell_type": "code",
   "execution_count": null,
   "metadata": {},
   "outputs": [],
   "source": []
  },
  {
   "cell_type": "markdown",
   "metadata": {},
   "source": [
    "There are no exercises in this section, but it's still a good idea to look through the examples carefully and experiment with making some changes to test your understanding."
   ]
  },
  {
   "cell_type": "markdown",
   "metadata": {},
   "source": [
    "## Plotting lines and points"
   ]
  },
  {
   "cell_type": "markdown",
   "metadata": {},
   "source": [
    "Let's start by plotting a line of evenly spaced x values and their corresponding y values."
   ]
  },
  {
   "cell_type": "code",
   "execution_count": null,
   "metadata": {},
   "outputs": [],
   "source": []
  },
  {
   "cell_type": "markdown",
   "metadata": {},
   "source": [
    "Of course, it's always good practice to label our axes. Let's do this and also give the plot a title."
   ]
  },
  {
   "cell_type": "code",
   "execution_count": null,
   "metadata": {},
   "outputs": [],
   "source": []
  },
  {
   "cell_type": "markdown",
   "metadata": {},
   "source": [
    "If we don't want all of the points to be connected with lines, we can include an extra argument in `plt.plot` that specifies what kind of point we want to be plotted."
   ]
  },
  {
   "cell_type": "code",
   "execution_count": null,
   "metadata": {},
   "outputs": [],
   "source": []
  },
  {
   "cell_type": "markdown",
   "metadata": {},
   "source": [
    "We can also plot two curves in the same figure."
   ]
  },
  {
   "cell_type": "code",
   "execution_count": null,
   "metadata": {},
   "outputs": [],
   "source": []
  },
  {
   "cell_type": "markdown",
   "metadata": {},
   "source": [
    "Each curve is automatically plotted in a different color, but we can customize colors and even add a legend if we want."
   ]
  },
  {
   "cell_type": "code",
   "execution_count": null,
   "metadata": {},
   "outputs": [],
   "source": []
  },
  {
   "cell_type": "markdown",
   "metadata": {},
   "source": [
    "Matplotlib offers many, many ways to customize your plots. Take a look at lots and lots of examples here: https://matplotlib.org/2.0.2/gallery.html"
   ]
  },
  {
   "cell_type": "markdown",
   "metadata": {},
   "source": [
    "## Histograms"
   ]
  },
  {
   "cell_type": "markdown",
   "metadata": {},
   "source": [
    "A histogram allows us to see how data is distributed, with the height of each bar showing how many of the data points fall within each \"bin\". Let's generate an array of random numbers from a uniform distribution and check that we get about the same number of counts in each bin."
   ]
  },
  {
   "cell_type": "code",
   "execution_count": null,
   "metadata": {},
   "outputs": [],
   "source": []
  },
  {
   "cell_type": "markdown",
   "metadata": {},
   "source": [
    "## Visualizing matrices"
   ]
  },
  {
   "cell_type": "markdown",
   "metadata": {},
   "source": [
    "A common way to visualize two-dimensional data is as a color-coded matrix, also known as a heat map. This can be done using `plt.imshow`."
   ]
  },
  {
   "cell_type": "code",
   "execution_count": null,
   "metadata": {},
   "outputs": [],
   "source": []
  },
  {
   "cell_type": "markdown",
   "metadata": {},
   "source": [
    "## Subplots"
   ]
  },
  {
   "cell_type": "markdown",
   "metadata": {},
   "source": [
    "We can make subplots within the same plot. In the following examples, we'll illustrate two different distributions of random numbers in two different subplots. We'll also increase the number of bins in the histogram plots to show the distributions in more detail."
   ]
  },
  {
   "cell_type": "code",
   "execution_count": null,
   "metadata": {},
   "outputs": [],
   "source": []
  },
  {
   "cell_type": "markdown",
   "metadata": {},
   "source": [
    "## Error bars"
   ]
  },
  {
   "cell_type": "markdown",
   "metadata": {},
   "source": [
    "When we are working with actual data, we will often want to average it (e.g. averaging over trials in a neuroscience experiment) and include error bars to illustrate how spread out the data is. Let's create some fake data in which the underlying signal is a sine wave, and each trial has noise added to it. Then we'll plot the trial-averaged data together with error bars used to denote the standard deviation. This example will also include some of what we've learned about using for loops and performing operations over arrays."
   ]
  },
  {
   "cell_type": "code",
   "execution_count": null,
   "metadata": {},
   "outputs": [],
   "source": []
  },
  {
   "cell_type": "code",
   "execution_count": null,
   "metadata": {},
   "outputs": [],
   "source": []
  }
 ],
 "metadata": {
  "kernelspec": {
   "display_name": "Python 3 (ipykernel)",
   "language": "python",
   "name": "python3"
  },
  "language_info": {
   "codemirror_mode": {
    "name": "ipython",
    "version": 3
   },
   "file_extension": ".py",
   "mimetype": "text/x-python",
   "name": "python",
   "nbconvert_exporter": "python",
   "pygments_lexer": "ipython3",
   "version": "3.9.12"
  }
 },
 "nbformat": 4,
 "nbformat_minor": 4
}

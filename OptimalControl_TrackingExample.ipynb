{
 "cells": [
  {
   "cell_type": "markdown",
   "id": "b29e0298",
   "metadata": {},
   "source": [
    "This notebook implements a simple linear tracking controller based on optimal control theory. Given the dynamical system\n",
    "$$\n",
    "\\frac{d}{dt}\\vec{x} = \\mathbf{A} \\vec{x} + \\mathbf{B} \\vec{u},\n",
    "$$\n",
    "and the goal of making $\\vec{x}(t)$ follow a target trajectory $\\vec{r}(t)$ while minimizing $|\\vec{u}(t)|^2$, according to the following cost function:\n",
    "$$\n",
    "g(\\vec{x}(t), \\vec{u}(t)) = \\frac{1}{2} |\\vec{x}(t) - \\vec{r}(t)|^2 + \\frac{\\lambda}{2} |\\vec{u}(t)|^2.\n",
    "$$\n",
    "This notebook finds the optimal-control trajectory $\\vec{u}(t)$ and the corresponding trajectory $\\vec{x}(t)$.\n",
    "\n",
    "\n",
    "In class, we used calculus of variations to show that we can solve this problem by solving the following sets of equations.\n",
    "\n",
    "First, we need to integrate the following equations _backward_ in time, starting from the initial conditions $\\vec{s}(T) = 0$ and $\\mathbf{K}(T) = 0$:\n",
    "$$\n",
    "\\dot{\\vec{s}} = \\left( \\frac{1}{\\lambda} \\mathbf{KBB}^\\top - \\mathbf{A}^\\top \\right) \\vec{s} + \\vec{r}, \\\\\n",
    "\\dot{\\mathbf{K}} = - \\mathbb{I} - \\mathbf{A}^\\top \\mathbf{K} - \\mathbf{KA} + \\frac{1}{\\lambda} \\mathbf{KBB}^\\top \\mathbf{K}.\n",
    "$$\n",
    "After obtaining these, we use them to integrate the following equations forward in time starting from a given initial condition $\\vec{x}(0)$:\n",
    "$$\n",
    "\\vec{u} = -\\frac{1}{\\lambda} \\mathbf{B}^\\top [\\mathbf{K}\\vec{x} + \\vec{s}], \\\\\n",
    "\\dot{\\vec{x}} = \\mathbf{A} \\vec{x} + \\mathbf{B} \\vec{u}.\n",
    "$$"
   ]
  },
  {
   "cell_type": "markdown",
   "id": "fa023ab1",
   "metadata": {},
   "source": [
    "Let's start by defining some parameters and the trajectory we'd like $\\vec{x}(t)$ to follow:"
   ]
  },
  {
   "cell_type": "code",
   "execution_count": 3,
   "id": "983378dd",
   "metadata": {},
   "outputs": [
    {
     "data": {
      "text/plain": [
       "Text(0, 0.5, 'r')"
      ]
     },
     "execution_count": 3,
     "metadata": {},
     "output_type": "execute_result"
    },
    {
     "data": {
      "image/png": "[encoded data removed]",
      "text/plain": [
       "<Figure size 432x288 with 1 Axes>"
      ]
     },
     "metadata": {
      "needs_background": "light"
     },
     "output_type": "display_data"
    }
   ],
   "source": [
    "import numpy as np\n",
    "import matplotlib.pyplot as plt\n",
    "\n",
    "T = 5  # time duration\n",
    "dt = 0.01  # size of timestep for numerical integration\n",
    "n_t = round(T/dt)  # number of timesteps\n",
    "t_range = np.linspace(0, T, n_t)\n",
    "\n",
    "# The matrices that specify our linear dynamical system:\n",
    "A = np.array([[0, 1], [0, 0]])  \n",
    "B = np.reshape(np.array([0, 1]), (2,1))\n",
    "\n",
    "# The target trajectory:\n",
    "r = np.zeros((n_t, 2))\n",
    "r[:,0] = 0.5 * (1 + np.cos(2 * np.pi * t_range / (2 * T)))\n",
    "r[:,1] = - 0.5 * np.pi / T * np.sin(2 * np.pi * t_range / (2 * T))\n",
    "\n",
    "# Plot the trajectory that we want x(t) to follow.\n",
    "plt.plot(t_range, r[:,0])\n",
    "plt.xlabel('t')\n",
    "plt.ylabel('r')"
   ]
  },
  {
   "cell_type": "markdown",
   "id": "1547ce71",
   "metadata": {},
   "source": [
    "**Exercise**: Complete the following function with four lines of code that implement Euler integration for the four differential equations given above."
   ]
  },
  {
   "cell_type": "code",
   "execution_count": 4,
   "id": "b4d500ad",
   "metadata": {},
   "outputs": [],
   "source": [
    "## Solution ##\n",
    "\n",
    "# A function that computes x(t) and u(t) given lambda:\n",
    "def control(lam):\n",
    "    # Initialize arrays:\n",
    "    s = np.zeros((n_t, 2))\n",
    "    K = np.zeros((n_t, 2, 2))\n",
    "    x = np.zeros((n_t, 2))\n",
    "    u = np.zeros((n_t, 1))\n",
    "\n",
    "    # Initial conditions for the dynamical system:\n",
    "    x[0, 0] = 1  # initial position\n",
    "    x[0, 1] = 0  # initial velocity\n",
    "\n",
    "    # Integrate backward in time to get s and K:\n",
    "    for t in np.arange(1, n_t)[::-1]:\n",
    "    ## Your code here ##\n",
    "    \n",
    "    # Integrate the dynamical system forward in time given the optimal control to get u and x:\n",
    "    for t in np.arange(n_t-1):\n",
    "    ## Your code here ##\n",
    "        \n",
    "    return u, x"
   ]
  },
  {
   "cell_type": "markdown",
   "id": "d7d2380f",
   "metadata": {},
   "source": [
    "**Exercise**: Using the above function, plot the solution $x_1(t)$ for the values $\\lambda = 0.1, 1, 10, 100$. In a separate subplot, plot the corresponding control signal $u(t)$ for each value of $\\lambda$. What do you notice about the solutions?"
   ]
  },
  {
   "cell_type": "code",
   "execution_count": 6,
   "id": "7f4627cf",
   "metadata": {},
   "outputs": [],
   "source": [
    "## Your code here ##\n"
   ]
  },
  {
   "cell_type": "code",
   "execution_count": null,
   "id": "70c62aeb",
   "metadata": {},
   "outputs": [],
   "source": []
  }
 ],
 "metadata": {
  "kernelspec": {
   "display_name": "Python 3",
   "language": "python",
   "name": "python3"
  },
  "language_info": {
   "codemirror_mode": {
    "name": "ipython",
    "version": 3
   },
   "file_extension": ".py",
   "mimetype": "text/x-python",
   "name": "python",
   "nbconvert_exporter": "python",
   "pygments_lexer": "ipython3",
   "version": "3.7.10"
  }
 },
 "nbformat": 4,
 "nbformat_minor": 5
}

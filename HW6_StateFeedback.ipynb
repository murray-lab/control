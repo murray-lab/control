{
 "cells": [
  {
   "cell_type": "markdown",
   "id": "43fe1434",
   "metadata": {},
   "source": [
    "Solutions to the following exercises may be either typed into the submitted Jupyter notebook, or handwritten solutions may be scanned and submitted as a separate PDF file.\n",
    "\n",
    "1. (10 points) Exercise 6.8 (parts a-c only) from the Astrom and Murray textbook.\n",
    "2. (10 points) Exercise 6.9 from the Astrom and Murray textbook. \n",
    "2. (10 points) Exercise 7.3 from the Astrom and Murray textbook. \n",
    "2. (10 points) Exercise 7.5 from the Astrom and Murray textbook. \n",
    "2. (10 points) Exercise 7.9 from the Astrom and Murray textbook. "
   ]
  },
  {
   "cell_type": "code",
   "execution_count": null,
   "id": "e1a64e6e",
   "metadata": {},
   "outputs": [],
   "source": []
  }
 ],
 "metadata": {
  "kernelspec": {
   "display_name": "Python 3",
   "language": "python",
   "name": "python3"
  },
  "language_info": {
   "codemirror_mode": {
    "name": "ipython",
    "version": 3
   },
   "file_extension": ".py",
   "mimetype": "text/x-python",
   "name": "python",
   "nbconvert_exporter": "python",
   "pygments_lexer": "ipython3",
   "version": "3.7.10"
  }
 },
 "nbformat": 4,
 "nbformat_minor": 5
}

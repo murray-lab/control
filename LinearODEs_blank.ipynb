{
 "cells": [
  {
   "cell_type": "markdown",
   "id": "002e7a62",
   "metadata": {},
   "source": [
    "In this notebook, we'll solve a system of two ODEs both numerically and analytically, noting how the solutions depend on the eigenvalues of the dynamics matrix. The dynamical equations are\n",
    "$$\n",
    "\\frac{d\\vec{x}}{dt} = \\mathbf{A} \\vec{x},\n",
    "$$\n",
    "and we assume that we are given the initial condition $\\vec{x}(0)$."
   ]
  },
  {
   "cell_type": "code",
   "execution_count": 1,
   "id": "a9c0e75a",
   "metadata": {},
   "outputs": [],
   "source": [
    "import numpy as np\n",
    "import matplotlib.pyplot as plt"
   ]
  },
  {
   "cell_type": "markdown",
   "id": "f5b0c75e",
   "metadata": {},
   "source": [
    "First, we can define the dynamics matrix $\\mathbf{A}$ and compute the eigenvalues:"
   ]
  },
  {
   "cell_type": "code",
   "execution_count": 63,
   "id": "3e9b39a3",
   "metadata": {},
   "outputs": [
    {
     "name": "stdout",
     "output_type": "stream",
     "text": [
      "Evals:  [-0.26794919 -3.73205081]\n",
      "Diagonalized dynamics matrix:  [[-2.67949192e-01  6.93889390e-17]\n",
      " [-2.22044605e-16 -3.73205081e+00]]\n"
     ]
    }
   ],
   "source": [
    "A = np.array([[-1, 1],\n",
    "              [2, -3]])\n",
    "\n",
    "evals, evecs = np.linalg.eig(A)\n",
    "print('Evals: ', evals)\n",
    "\n",
    "# Period of oscillations if evals are complex:\n",
    "if np.imag(evals[0]) != 0:\n",
    "    print('Period of oscillations: ', 2 * np.pi / np.imag(evals[0]))\n",
    "\n",
    "# Check that T (the matrix of eigenvectors) diagonalizes A:\n",
    "T = evecs\n",
    "print('Diagonalized dynamics matrix: ', np.linalg.inv(T) @ A @ T)\n",
    "\n"
   ]
  },
  {
   "cell_type": "markdown",
   "id": "9485101f",
   "metadata": {},
   "source": [
    "Next, we can solve the ODEs numerically using Euler integration:"
   ]
  },
  {
   "cell_type": "code",
   "execution_count": 29,
   "id": "cec5e8e4",
   "metadata": {},
   "outputs": [
    {
     "data": {
      "text/plain": [
       "Text(0.5, 1.0, 'Numerical solution')"
      ]
     },
     "execution_count": 29,
     "metadata": {},
     "output_type": "execute_result"
    },
    {
     "data": {
      "image/png": "[encoded data removed]",
      "text/plain": [
       "<Figure size 432x288 with 1 Axes>"
      ]
     },
     "metadata": {
      "needs_background": "light"
     },
     "output_type": "display_data"
    }
   ],
   "source": [
    "dt = 0.01\n",
    "t_max = 15\n",
    "n_timesteps = int(t_max / dt)\n",
    "t_range = np.linspace(0, t_max, n_timesteps)\n",
    "\n",
    "# Solve the ODE numerically with Euler integration:\n",
    "x = np.zeros((n_timesteps, 2))\n",
    "x[0,:] = [1, 0]\n",
    "for n in range(n_timesteps-1):\n",
    "    x[n+1,:] = x[n,:] + dt * A @ x[n,:]\n",
    "    \n",
    "plt.plot(t_range, x[:,0])\n",
    "plt.plot(t_range, x[:,1])\n",
    "plt.legend(['x1', 'x2'])\n",
    "plt.xlabel('t')\n",
    "plt.title('Numerical solution')"
   ]
  },
  {
   "cell_type": "markdown",
   "id": "b936ddd0",
   "metadata": {},
   "source": [
    "**Exercise**: Compute the analytic solution $\\vec{x}(t) = e^{\\mathbf{A} t} \\vec{x}(0)$. Plot the result and compare it with the numerical solution computed above."
   ]
  },
  {
   "cell_type": "code",
   "execution_count": 1,
   "id": "a6c89a84",
   "metadata": {},
   "outputs": [],
   "source": [
    "from scipy.linalg import expm  # This function takes the matrix exponential\n",
    "\n",
    "## Solution ##\n",
    "\n"
   ]
  },
  {
   "cell_type": "markdown",
   "id": "185ee11a",
   "metadata": {},
   "source": [
    "**Exercise**: Plot the solution as a trajectory in state space, together with the eigenvectors."
   ]
  },
  {
   "cell_type": "code",
   "execution_count": 2,
   "id": "f6cadb93",
   "metadata": {},
   "outputs": [],
   "source": [
    "## Solution ##\n",
    "\n"
   ]
  },
  {
   "cell_type": "markdown",
   "id": "62347dea",
   "metadata": {},
   "source": [
    "**Exercise**: Recall from class that we can project $x$ onto the eigenvectors of $\\mathbf{A}$ by defining $\\vec{z}(t) = \\mathbf{T} \\vec{x}(t)$. Plot the projections $z_{1,2}(t)$ as functions of time. Also plot them in "
   ]
  },
  {
   "cell_type": "code",
   "execution_count": 3,
   "id": "29fdd5d6",
   "metadata": {},
   "outputs": [],
   "source": [
    "## Solution ##\n",
    "\n"
   ]
  },
  {
   "cell_type": "code",
   "execution_count": null,
   "id": "fe5ba6fa",
   "metadata": {},
   "outputs": [],
   "source": []
  }
 ],
 "metadata": {
  "kernelspec": {
   "display_name": "Python 3 (ipykernel)",
   "language": "python",
   "name": "python3"
  },
  "language_info": {
   "codemirror_mode": {
    "name": "ipython",
    "version": 3
   },
   "file_extension": ".py",
   "mimetype": "text/x-python",
   "name": "python",
   "nbconvert_exporter": "python",
   "pygments_lexer": "ipython3",
   "version": "3.9.12"
  }
 },
 "nbformat": 4,
 "nbformat_minor": 5
}

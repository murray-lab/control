{
 "cells": [
  {
   "cell_type": "markdown",
   "id": "8e096cf3",
   "metadata": {},
   "source": [
    "Solutions to the following exercises may be either typed into the submitted Jupyter notebook, or handwritten solutions may be scanned and submitted as a separate PDF file.\n",
    "\n",
    "1. (10 points) Exercise 8.5 from the Astrom and Murray textbook. \n",
    "    - Assume that the observer matrix is $\\vec{c} = (1 ~ 0)^\\top$.\n",
    "2. (10 points) Exercise 8.6 from the Astrom and Murray textbook. \n",
    "    - There is a typo in this problem: $\\mathrm{det}(s I - LC)$ should instead be $\\mathrm{det}(sI - A + LC)$.\n",
    "4. (10 points) Complete the coding exercise below."
   ]
  },
  {
   "cell_type": "markdown",
   "id": "53e566a5",
   "metadata": {},
   "source": [
    "# Kalman filter for the harmonic oscillator\n",
    "\n",
    "In this exercise, we'll implement the Kalman filter to estimate the state of a forced harmonic oscillator. The system's dynamics are described by the following equation:\n",
    "$$\n",
    "\\vec{x}[k+1] = \\mathbf{A} \\vec{x}[k] + \\vec{b} u[k] + \\vec{v}[k],\n",
    "$$\n",
    "where $\\vec{x} = (x_1 ~ x_2)^\\top$, and $x_1$ and $x_2$ describe the oscillator's position and velocity, respectively. We'll assume the initial condition $\\vec{x}[0] = 0$. The noise added to the dynamics is characterized by $\\mathbb{E}(v_i[k]) = 0$ and $\\mathbb{E}(v_i[k] v_j[k']) = R^v_{ij} \\delta_{kk'}$, where $R^v_{ij} = \\sigma_v^2 \\delta_{ij}$, and $\\delta_{ij}$ is the Kronecker delta.\n",
    "\n",
    "The system's observer, however, only gets to observe the position, not the velocity:\n",
    "$$\n",
    "y[k] = \\vec{c}^\\top \\vec{x}[k] + w[k],\n",
    "$$\n",
    "where $\\vec{c} = (1 ~ 0)^\\top$. The observation noise is characterized by $\\mathbb{E}(w[k]) = 0$ and $\\mathbb{E}(w[k] w[k']) = \\sigma_w^2 \\delta_{kk'}$, where $\\delta_{ij}$ is the Kronecker delta.\n",
    "\n",
    "The following block of code sets up the parameters for this system."
   ]
  },
  {
   "cell_type": "code",
   "execution_count": 2,
   "id": "c5d7fcc0",
   "metadata": {},
   "outputs": [],
   "source": [
    "import numpy as np\n",
    "import matplotlib.pyplot as plt\n",
    "\n",
    "n_timesteps = 1000\n",
    "\n",
    "# Note that the dynamics matrix corresponds to a discretization of the continuous-time\n",
    "# system we studied earlier with dt = 0.01.\n",
    "A = np.array([[0.99, 0.01],\n",
    "              [-0.1, 0.99]])  \n",
    "B = np.array([0, 1])\n",
    "C = np.array([1, 0])\n",
    "\n",
    "# control policy:\n",
    "u = 0.1 * np.cos(np.linspace(0, 5 * 2 * np.pi, n_timesteps))\n",
    "\n",
    "# initialize state x, observation y, and observer xhat:\n",
    "x0 = np.array([1, 0]) \n",
    "x = np.zeros((n_timesteps, 2))\n",
    "x[0,:] = x0\n",
    "\n",
    "y0 = C @ x0\n",
    "y = np.zeros(n_timesteps)\n",
    "y[0] = y0\n",
    "\n",
    "xhat0 = np.array([0, 0])\n",
    "xhat = np.zeros((n_timesteps, 2))\n",
    "xhat[0,:] = xhat0\n",
    "\n",
    "# noise amplitudes and covariance matrices:\n",
    "v_amp = 0.1\n",
    "w_amp = 1.0\n",
    "Rv = v_amp**2 * np.array([[0, 0],\n",
    "                          [0, 1]])\n",
    "Rw = w_amp**2\n",
    "\n",
    "P = np.zeros((2, 2))\n",
    "\n"
   ]
  },
  {
   "cell_type": "markdown",
   "id": "5e2bc026",
   "metadata": {},
   "source": [
    "**Exercise**: Simulate the above system and plot the position $x_1[t]$ and velocity $x_2[t]$. Also implement a Kalman filter to get the observer estimates $\\hat{x}_1[t]$ and velocity $\\hat{x}_2[t]$ using the equations we derived in class, and plot these together with the true position and velocity in the same plots. Finally, compare your result with a more-naive way of estimating $x_2[t]$ by taking differences between adjacent timesteps $x_2[t] \\approx (x_1[t] - x_1[t-1]) / \\Delta t$."
   ]
  },
  {
   "cell_type": "code",
   "execution_count": 1,
   "id": "965aac3e",
   "metadata": {},
   "outputs": [],
   "source": [
    "## Your code here ##\n"
   ]
  },
  {
   "cell_type": "code",
   "execution_count": null,
   "id": "d4b22a9b",
   "metadata": {},
   "outputs": [],
   "source": []
  }
 ],
 "metadata": {
  "kernelspec": {
   "display_name": "Python 3",
   "language": "python",
   "name": "python3"
  },
  "language_info": {
   "codemirror_mode": {
    "name": "ipython",
    "version": 3
   },
   "file_extension": ".py",
   "mimetype": "text/x-python",
   "name": "python",
   "nbconvert_exporter": "python",
   "pygments_lexer": "ipython3",
   "version": "3.7.10"
  }
 },
 "nbformat": 4,
 "nbformat_minor": 5
}

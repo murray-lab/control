{
 "cells": [
  {
   "cell_type": "markdown",
   "id": "14441180",
   "metadata": {},
   "source": [
    "Solutions to the following exercises may be either typed into the submitted Jupyter notebook, or handwritten solutions may be scanned and submitted as a separate PDF file.\n",
    "\n",
    "1. (10 points) Exercise 4.2 from the Astrom and Murray textbook.\n",
    "2. (10 points) Exercise 4.9 from the Astrom and Murray textbook. Please include the code for simulating the ODEs and making plots in your submitted notebook.\n",
    "3. (10 points) Exercise 5.1 from the Astrom and Murray textbook.\n",
    "4. (10 points) Complete the coding exercise below."
   ]
  },
  {
   "cell_type": "markdown",
   "id": "92ab1cfd",
   "metadata": {},
   "source": [
    "# Numerical integration of bicycle dynamics\n",
    "\n",
    "In the first exercise from this assignment, we derived the equations describing the dynamics of a bicycle, which were of the form\n",
    "$$\n",
    "\\frac{d \\vec{x}}{dt} = \\mathbf{A} \\vec{x} + \\vec{b} u(t) \\\\\n",
    "y = \\vec{c}^\\top \\vec{x}.\n",
    "$$\n",
    "\n",
    "In the block of code below, solve this ODE numerically using Euler integration. For simplicity, we can set the parameters to $m = g = h = J = D = v_0 = b = 1$. Run the simulation from $t = 0$ to $t=3$ in steps of $\\Delta t = 0.01$. Let the initial condition be $\\vec{x}(0) = [0.1, 0]$, and implement negative feedback control with $u(t) = -\\gamma x_1(t)$. Solve the ODE numerically for $\\gamma = 0, 1$ and $2$, and plot $y(t)$ in each case. Write a description interpreting your results, in particular explaining the difference between the cases with ($\\gamma > 0$) vs. without ($\\gamma = 0$) feedback control."
   ]
  },
  {
   "cell_type": "code",
   "execution_count": 1,
   "id": "57489069",
   "metadata": {},
   "outputs": [],
   "source": [
    "## Your code here ##\n",
    "\n"
   ]
  },
  {
   "cell_type": "code",
   "execution_count": null,
   "id": "093a74e5",
   "metadata": {},
   "outputs": [],
   "source": []
  }
 ],
 "metadata": {
  "kernelspec": {
   "display_name": "Python 3",
   "language": "python",
   "name": "python3"
  },
  "language_info": {
   "codemirror_mode": {
    "name": "ipython",
    "version": 3
   },
   "file_extension": ".py",
   "mimetype": "text/x-python",
   "name": "python",
   "nbconvert_exporter": "python",
   "pygments_lexer": "ipython3",
   "version": "3.7.10"
  }
 },
 "nbformat": 4,
 "nbformat_minor": 5
}

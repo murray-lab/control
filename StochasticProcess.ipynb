{
 "cells": [
  {
   "cell_type": "markdown",
   "id": "861e701b",
   "metadata": {
    "slideshow": {
     "slide_type": "slide"
    }
   },
   "source": [
    "In this notebook, we'll simulate a one-dimensional stochastic process with white-noise input."
   ]
  },
  {
   "cell_type": "code",
   "execution_count": 59,
   "id": "642ce213",
   "metadata": {},
   "outputs": [],
   "source": [
    "import matplotlib.pyplot as plt\n",
    "import numpy as np\n"
   ]
  },
  {
   "cell_type": "markdown",
   "id": "58a0c589",
   "metadata": {},
   "source": [
    "Let our stochastic process be given by \n",
    "$$\n",
    "X[t+1] = A X[t] + V[t],\n",
    "$$\n",
    "where $V[t] \\sim \\mathcal{N}(0,\\sigma^2)$ is a random variable that is drawn independently at each timestep.\n",
    "\n",
    "Let's start by taking a look at how to get $V$, assuming $\\sigma = 1$:"
   ]
  },
  {
   "cell_type": "code",
   "execution_count": 68,
   "id": "c8d6fe13",
   "metadata": {},
   "outputs": [
    {
     "data": {
      "text/plain": [
       "Text(0, 0.5, 'p(V)')"
      ]
     },
     "execution_count": 68,
     "metadata": {},
     "output_type": "execute_result"
    },
    {
     "data": {
      "image/png": "[encoded data removed]",
      "text/plain": [
       "<Figure size 432x288 with 1 Axes>"
      ]
     },
     "metadata": {
      "needs_background": "light"
     },
     "output_type": "display_data"
    }
   ],
   "source": [
    "n_steps = 1000\n",
    "v = np.random.randn(n_steps)\n",
    "\n",
    "# We can plot the V we just got together with the \n",
    "# standard normal distribution that they are drawn from:\n",
    "plt.hist(v, density=True)\n",
    "plt.plot(np.linspace(-5, 5, 100), np.exp(-0.5 * np.linspace(-5, 5, 100)**2) / (2 * np.pi)**0.5)\n",
    "plt.xlabel('V')\n",
    "plt.ylabel('p(V)')"
   ]
  },
  {
   "cell_type": "markdown",
   "id": "cb451b4f",
   "metadata": {},
   "source": [
    "**Exercise**: Using the $V$ we just obtained, simulate the random process $X[t]$ for `n_timesteps`, assuming $X[0]=0$ and $A = 0.8$. Plot both $X$ and $V$."
   ]
  },
  {
   "cell_type": "code",
   "execution_count": 1,
   "id": "56ac7492",
   "metadata": {},
   "outputs": [],
   "source": [
    "### Solution ###\n",
    "\n"
   ]
  },
  {
   "cell_type": "markdown",
   "id": "6e4b27a6",
   "metadata": {},
   "source": [
    "Let's compute the autocorrelation of the above time series, computing the autocorrelation first using our simulated data and then comparing this to the theoretical result.\n",
    "\n",
    "To compute the autocorrelation from data, we use its definition\n",
    "$$\n",
    "r(\\tau) = \\mathbb{E} (X[t] X[t+\\tau])\n",
    "$$\n",
    "and then approximate the expectation as just the average over the data points that we observe. We might try\n",
    "$$\n",
    "r_\\mathrm{exp}(\\tau) = \\frac{1}{T} \\sum_{t=1}^{T} X[t] X[t+\\tau].\n",
    "$$\n",
    "But note that this doesn't quite work since it would require data from timepoints $t+\\tau > T$. So we can instead use\n",
    "$$\n",
    "r_\\mathrm{exp}(\\tau) = \\frac{1}{T-\\tau} \\sum_{t=1}^{T-\\tau} X[t] X[t+\\tau].\n",
    "$$\n",
    "\n",
    "The theoretical result for the autocorrelation, which we computed in class, is\n",
    "$$\n",
    "r_\\mathrm{theory}(\\tau) = \\frac{\\sigma^2 A^\\tau}{1 - A^2}.\n",
    "$$\n",
    "\n",
    "**Exercise**: Using the data we just simulated, compute the autocorrelation both ways and plot the results together."
   ]
  },
  {
   "cell_type": "code",
   "execution_count": 2,
   "id": "f40ddd66",
   "metadata": {},
   "outputs": [],
   "source": [
    "## Solution ##\n",
    "\n"
   ]
  },
  {
   "cell_type": "code",
   "execution_count": null,
   "id": "bb72c1ba",
   "metadata": {},
   "outputs": [],
   "source": []
  }
 ],
 "metadata": {
  "kernelspec": {
   "display_name": "Python 3 (ipykernel)",
   "language": "python",
   "name": "python3"
  },
  "language_info": {
   "codemirror_mode": {
    "name": "ipython",
    "version": 3
   },
   "file_extension": ".py",
   "mimetype": "text/x-python",
   "name": "python",
   "nbconvert_exporter": "python",
   "pygments_lexer": "ipython3",
   "version": "3.9.12"
  }
 },
 "nbformat": 4,
 "nbformat_minor": 5
}
